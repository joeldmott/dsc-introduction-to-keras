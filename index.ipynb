{
  "cells": [
    {
      "cell_type": "markdown",
      "metadata": {
        "id": "Z-xMaKAY8oQ0"
      },
      "source": [
        "# Introduction to Keras"
      ]
    },
    {
      "cell_type": "markdown",
      "metadata": {
        "id": "vN77BkFv8oQ_"
      },
      "source": [
        "## Introduction\n",
        "\n",
        "Thus far we have a solid basic conceptual understanding of neural networks and their basic architecture. We've seen neural networks for classification including a neural network with no hidden layers (logistic regression), one hidden layer, and several hidden layers. From here, we'll begin to use Keras, a package that has prebuilt many of the building blocks of neural networks which we investigated in previous lessons.  \n",
        "\n",
        "## Objectives\n",
        "\n",
        "You will be able to:\n",
        "\n",
        "- Define a tensor\n",
        "- Perform tensor slicing\n",
        "- Explain the different tensor operations (element-wise, broadcast, and dot product)\n",
        "- Explain how an epoch and batch relate to one another\n",
        "- Explain the steps to build a neural network in Keras\n",
        "\n",
        "\n"
      ]
    },
    {
      "cell_type": "markdown",
      "metadata": {
        "id": "Uv_6J8mt8oRC"
      },
      "source": [
        "## Taking a step back: tensors and data representations"
      ]
    },
    {
      "cell_type": "markdown",
      "metadata": {
        "id": "4FsTIhXR8oRC"
      },
      "source": [
        "Until now, we haven't really discussed the shape of our data in detail. Let's briefly discuss data representations in neural networks (the building blocks are \"tensors\")."
      ]
    },
    {
      "cell_type": "markdown",
      "metadata": {
        "id": "ya7LKHrd8oRD"
      },
      "source": [
        "- Scalars = 0D tensors\n",
        "- Vectors = 1D tensors\n",
        "- Matrices = 2D tensors\n",
        "- 3D tensors."
      ]
    },
    {
      "cell_type": "markdown",
      "metadata": {
        "id": "7xJzOj868oRD"
      },
      "source": [
        "A tensor is defined by three key attributes:\n",
        "- rank or number of axes\n",
        "- the shape\n",
        "- the data type"
      ]
    },
    {
      "cell_type": "markdown",
      "metadata": {
        "id": "8oTiyy0T8oRD"
      },
      "source": [
        "## Some important data manipulations in NumPy"
      ]
    },
    {
      "cell_type": "markdown",
      "metadata": {
        "id": "THLJKTGo8oRE"
      },
      "source": [
        "### Unrowing matrices (important for images)"
      ]
    },
    {
      "cell_type": "markdown",
      "metadata": {
        "id": "8dW-ghPS8oRE"
      },
      "source": [
        "eg Santa: `(790, 64, 64, 3)` matrix to a `(64*64*3, 790)` matrix!\n",
        "\n",
        "```python\n",
        "img_unrow = img.reshape(790, -1).T  \n",
        "```"
      ]
    },
    {
      "cell_type": "markdown",
      "metadata": {
        "id": "pTYi3hz78oRE"
      },
      "source": [
        "### Increasing the rank"
      ]
    },
    {
      "cell_type": "markdown",
      "metadata": {
        "id": "EbU6XxZs8oRF"
      },
      "source": [
        "vector with `np.shape() (790,)`\n",
        "\n",
        "```python\n",
        "np.reshape(vector, (1,790))\n",
        "```\n"
      ]
    },
    {
      "cell_type": "markdown",
      "metadata": {
        "id": "s_46f4sm8oRF"
      },
      "source": [
        "### Tensor slicing\n",
        "\n",
        "We've actually already seen this in previous lectures and labs, although not explicitly. Just like Python's native lists, or NumPy arrays, we can slice tensors using the usual syntax:  \n",
        "\n",
        "```python  \n",
        "tensor[start_idx : end_idx]\n",
        "```\n",
        "\n",
        "As with lists and NumPy arrays, this will include the `start_idx` element up to, but not including the `end_idx` element.\n",
        "\n",
        "Below is a brief example:"
      ]
    },
    {
      "cell_type": "code",
      "execution_count": 1,
      "metadata": {
        "id": "cdAmIIn-8oRG",
        "outputId": "5d75dc02-961a-409b-d2bd-a58c1918bd46",
        "colab": {
          "base_uri": "https://localhost:8080/",
          "height": 534
        }
      },
      "outputs": [
        {
          "output_type": "stream",
          "name": "stdout",
          "text": [
            "Downloading data from https://storage.googleapis.com/tensorflow/tf-keras-datasets/mnist.npz\n",
            "11490434/11490434 [==============================] - 0s 0us/step\n",
            "Raw Tensor shape: (60000, 28, 28)\n",
            "Tensor Slice [0:100] shape: (100, 28, 28)\n",
            "Tensor Slice [0:100] shape: (100, 28, 28)\n",
            "Tensor Slice [0:100] shape: (100, 28, 28)\n"
          ]
        },
        {
          "output_type": "display_data",
          "data": {
            "text/plain": [
              "<Figure size 640x480 with 1 Axes>"
            ],
            "image/png": "[encoded data removed]"
          },
          "metadata": {}
        }
      ],
      "source": [
        "from keras.datasets import mnist\n",
        "import matplotlib.pyplot as plt\n",
        "%matplotlib inline\n",
        "\n",
        "(train_images, train_labels), (test_images, test_labels) = mnist.load_data()\n",
        "digit = train_images[10] # Select an arbitrary case for our example\n",
        "\n",
        "# Checking the shape of our tensor (in this case, the image)\n",
        "print('Raw Tensor shape:', train_images.shape)\n",
        "\n",
        "# Now performing some slices of our image:\n",
        "print('Tensor Slice [0:100] shape:', train_images[:100].shape)\n",
        "\n",
        "# Equivalently\n",
        "print('Tensor Slice [0:100] shape:', train_images[:100, :, :].shape)\n",
        "\n",
        "# Or verbosely:\n",
        "print('Tensor Slice [0:100] shape:', train_images[:100, :28, :28].shape)\n",
        "\n",
        "# Display an example image for context\n",
        "plt.imshow(digit, cmap=plt.cm.binary)\n",
        "plt.show()"
      ]
    },
    {
      "cell_type": "markdown",
      "metadata": {
        "id": "LHyPoSTv8oRI"
      },
      "source": [
        "In the above example, we sliced our tensor to obtain 100 of the 60,000 images. You can also slice tensors along other axes. For example, the first dimension is which image we are referring to, while the second and third axes are the pixels of these images themselves. For example, we could limit the images to the bottom right hand quadrant like this:"
      ]
    },
    {
      "cell_type": "code",
      "execution_count": 2,
      "metadata": {
        "id": "44GztBli8oRJ",
        "outputId": "582bbd36-21c8-4974-8713-db44069b838a",
        "colab": {
          "base_uri": "https://localhost:8080/",
          "height": 447
        }
      },
      "outputs": [
        {
          "output_type": "stream",
          "name": "stdout",
          "text": [
            "Sliced tensor shape (includes all images but only the lower right hand corner of each: (60000, 14, 14)\n"
          ]
        },
        {
          "output_type": "display_data",
          "data": {
            "text/plain": [
              "<Figure size 640x480 with 1 Axes>"
            ],
            "image/png": "[encoded data removed]"
          },
          "metadata": {}
        }
      ],
      "source": [
        "lower_right_quadrant = train_images[:,14:,14:]\n",
        "print('Sliced tensor shape (includes all images but only the lower right hand corner of each:',\n",
        "      lower_right_quadrant.shape)\n",
        "plt.imshow(lower_right_quadrant[10], cmap=plt.cm.binary) # Display the 10th image from our sliced tensor\n",
        "plt.show()"
      ]
    },
    {
      "cell_type": "markdown",
      "metadata": {
        "id": "CmJKeBKY8oRJ"
      },
      "source": [
        "### Tensor Operations\n",
        "    * Element-wise\n",
        "    * Broadcasting\n",
        "    * Tensor dot\n",
        "    \n",
        "These are the three main operations that you will see in future implementations. Element-wise addition (or other operations) simply updates each element with the corresponding element from another tensor. For example, here is the result of an element-wise addition of two NumPy arrays:"
      ]
    },
    {
      "cell_type": "code",
      "execution_count": 3,
      "metadata": {
        "id": "HA9yjmud8oRK",
        "outputId": "add70b03-870b-4f5a-bd74-2c0fbf8c0fbb",
        "colab": {
          "base_uri": "https://localhost:8080/"
        }
      },
      "outputs": [
        {
          "output_type": "execute_result",
          "data": {
            "text/plain": [
              "array([ 6,  8, 10, 12])"
            ]
          },
          "metadata": {},
          "execution_count": 3
        }
      ],
      "source": [
        "import numpy as np\n",
        "np.array([1, 2, 3, 4]) + np.array([5, 6, 7, 8])"
      ]
    },
    {
      "cell_type": "markdown",
      "metadata": {
        "id": "h3g9pNeC8oRK"
      },
      "source": [
        "Broadcasting operations can be used when tensors are of different dimensions. For example, we could add the vector `[1, 2, 3]` to a 3 by 4 matrix like this:"
      ]
    },
    {
      "cell_type": "code",
      "execution_count": 4,
      "metadata": {
        "id": "QZIsFVrx8oRL",
        "outputId": "64a9e5a8-c7dd-4d5e-f7b8-98dff4fe9921",
        "colab": {
          "base_uri": "https://localhost:8080/"
        }
      },
      "outputs": [
        {
          "output_type": "stream",
          "name": "stdout",
          "text": [
            "A:\n",
            " [[ 0  1  2]\n",
            " [ 3  4  5]\n",
            " [ 6  7  8]\n",
            " [ 9 10 11]] \n",
            "\n",
            "B: [1 2 3] \n",
            "\n",
            "Updated A:\n",
            " [[ 1  3  5]\n",
            " [ 4  6  8]\n",
            " [ 7  9 11]\n",
            " [10 12 14]]\n"
          ]
        }
      ],
      "source": [
        "A = np.array(range(12)).reshape(4,3)\n",
        "print('A:\\n', A, '\\n')\n",
        "\n",
        "B = np.array([1, 2, 3]) #.reshape(1, -1)\n",
        "print('B:', B, '\\n')\n",
        "\n",
        "A += B # Update with broadcasting\n",
        "print('Updated A:\\n', A)"
      ]
    },
    {
      "cell_type": "markdown",
      "metadata": {
        "id": "poE1Y1fT8oRM"
      },
      "source": [
        "Noticed how B was broadcasted across A; a copy of B was added to each row in A.\n",
        "Finally, as with our previous work with linear algebra, we will also commonly take the dot product of tensors.\n",
        "Recall that this is the sum of the element-wise products. Let's start with a very simple example:"
      ]
    },
    {
      "cell_type": "code",
      "execution_count": 6,
      "metadata": {
        "id": "ef3oHPi58oRM",
        "outputId": "3101f831-8893-4920-b4b9-7f7ce9c61d1f",
        "colab": {
          "base_uri": "https://localhost:8080/"
        }
      },
      "outputs": [
        {
          "output_type": "stream",
          "name": "stdout",
          "text": [
            "14\n"
          ]
        }
      ],
      "source": [
        "# Recall that B is the vector [1, 2, 3]\n",
        "# Taking the dot product of B and itself is equivalent to\n",
        "# 1*1 + 2*2 + 3*3 = 1 + 4 + 9 = 14\n",
        "print(np.dot(B,B))"
      ]
    },
    {
      "cell_type": "markdown",
      "metadata": {
        "id": "yg6DG-cr8oRM"
      },
      "source": [
        "Examining a slightly more complex example:"
      ]
    },
    {
      "cell_type": "code",
      "execution_count": 7,
      "metadata": {
        "id": "C6sUnlom8oRN",
        "outputId": "60b4d7de-3aae-42e1-a6e4-e0e6429c0e4e",
        "colab": {
          "base_uri": "https://localhost:8080/"
        }
      },
      "outputs": [
        {
          "output_type": "stream",
          "name": "stdout",
          "text": [
            "A:\n",
            " [[ 0  1  2]\n",
            " [ 3  4  5]\n",
            " [ 6  7  8]\n",
            " [ 9 10 11]] \n",
            "\n",
            "B: [1 2 3] \n",
            "\n"
          ]
        },
        {
          "output_type": "execute_result",
          "data": {
            "text/plain": [
              "array([ 8, 26, 44, 62])"
            ]
          },
          "metadata": {},
          "execution_count": 7
        }
      ],
      "source": [
        "A = np.array(range(12)).reshape(4, 3)\n",
        "print('A:\\n', A, '\\n')\n",
        "\n",
        "B = np.array([1,2,3]) #.reshape(1, -1)\n",
        "print('B:', B, '\\n')\n",
        "\n",
        "np.dot(A, B)"
      ]
    },
    {
      "cell_type": "markdown",
      "metadata": {
        "id": "UlGLBXSz8oRN"
      },
      "source": [
        "Here the first element is the sum of the first row of $A$ multiplied by $B$ elementwise:  \n",
        "$$ 0*1 + 1*2 + 2*3 = 0 + 2 + 6 = 8 $$\n",
        "\n",
        "Followed by the sum of the second row of $A$ multiplied by $B$ elementwise:  \n",
        "\n",
        "$$ 3*1 + 4*2 + 5*3 = 3 + 8 + 15 = 26 $$\n",
        "\n",
        "and so on."
      ]
    },
    {
      "cell_type": "markdown",
      "metadata": {
        "id": "uFNJipOA8oRN"
      },
      "source": [
        "## Build a Neural Network with Keras"
      ]
    },
    {
      "cell_type": "markdown",
      "metadata": {
        "id": "XyZpRkQQ8oRO"
      },
      "source": [
        "### Importing the packages\n",
        "\n",
        "As usual, we need to import some classes..."
      ]
    },
    {
      "cell_type": "code",
      "execution_count": 8,
      "metadata": {
        "id": "dJ_CKpG48oRO"
      },
      "outputs": [],
      "source": [
        "from keras import models\n",
        "from keras import layers\n",
        "from keras import optimizers"
      ]
    },
    {
      "cell_type": "markdown",
      "metadata": {
        "id": "y5YPXXQm8oRO"
      },
      "source": [
        "### Decide on the network architecture\n",
        "\n",
        "Afterwards, we define the type of network. We will discuss other network types later, but to date, we have examined sequential models; one layer builds upon the previous one and continues to chain until the end."
      ]
    },
    {
      "cell_type": "markdown",
      "metadata": {
        "id": "RDg_WgkH8oRO"
      },
      "source": [
        "```python\n",
        "model = models.Sequential()\n",
        "```"
      ]
    },
    {
      "cell_type": "markdown",
      "metadata": {
        "id": "-ys7lndm8oRP"
      },
      "source": [
        "### Add layers\n",
        "\n",
        "Once we have initialized a network object as shown above, we can then add layers to the network which includes the number of layers we wish to add, as well as which activation function we want to use. For example, when coding from scratch, we previously used the sigmoid and ReLu activation functions.   \n",
        "\n",
        "The `Dense()` class indicates that this layer will be fully connected. There are other layer architectures that we will discuss further in upcoming labs and lessons.\n",
        "\n",
        "Finally, the `input_shape` parameter is often optional. That is, in successive layers, Keras implies the required shape of the layer to be added based on the shape of the previous layer."
      ]
    },
    {
      "cell_type": "markdown",
      "metadata": {
        "id": "R9y5tNDw8oRP"
      },
      "source": [
        "```python\n",
        "model.add(layers.Dense(units, activation, input_shape))\n",
        "```"
      ]
    },
    {
      "cell_type": "markdown",
      "metadata": {
        "id": "VKEwSt2H8oRP"
      },
      "source": [
        "### Compile the model\n",
        "\n",
        "Once we have defined the network architecture and added layers to that network, we then compile the model before then training that model on our data.  "
      ]
    },
    {
      "cell_type": "markdown",
      "metadata": {
        "id": "Ys-T1VXS8oRP"
      },
      "source": [
        "```python\n",
        "model.compile(optimizer=optimizers.RMSprop(learning_rate=0.001),\n",
        "              loss='mse',\n",
        "              metrics=['accuracy'])\n",
        "```"
      ]
    },
    {
      "cell_type": "markdown",
      "metadata": {
        "id": "3p43jAc18oRQ"
      },
      "source": [
        "Notice that this is also where we specify our loss function."
      ]
    },
    {
      "cell_type": "markdown",
      "metadata": {
        "id": "H1H_fDIk8oRQ"
      },
      "source": [
        "### Train the model"
      ]
    },
    {
      "cell_type": "markdown",
      "metadata": {
        "id": "bpdyT1P58oRQ"
      },
      "source": [
        "```python\n",
        "history = model.fit(x_train,\n",
        "                    y_train,\n",
        "                    epochs=20,\n",
        "                    batch_size=512,\n",
        "                    validation_data=(x_val, y_val))\n",
        "```"
      ]
    },
    {
      "cell_type": "markdown",
      "metadata": {
        "id": "emQVa0jp8oRQ"
      },
      "source": [
        "Why batches? If you push all your samples through at once, you have to wait until everything is processed and can only start backpropagating then. Therefore, batches are used, so that after each batch has done a forward propagation step, backward propagation can happen again. In essence, it's \"mini-batch\" gradient descent.\n",
        "\n",
        "\n",
        "Here's some further notes regarding these terms from the Keras documentation FAQ:\n",
        "\n",
        "\n",
        "* **Sample**: one element of a dataset.  \n",
        "    * *Example*: one image is a sample in a convolutional network  \n",
        "    * *Example*: one audio file is a sample for a speech recognition model  \n",
        "    \n",
        "* **Batch**: a set of $N$ samples. The samples in a batch are processed independently, in parallel. If training, a batch results in only one update to the model.  \n",
        "* A batch generally approximates the distribution of the input data better than a single input. The larger the batch, the better the approximation; however, it is also true that the batch will take longer to process and will still result in only one update. For inference (evaluate/predict), it is recommended to pick a batch size that is as large as you can afford without going out of memory (since larger batches will usually result in faster evaluation/prediction).\n",
        "* **Epoch**: an arbitrary cutoff, generally defined as \"one pass over the entire dataset\", used to separate training into distinct phases, which is useful for logging and periodic evaluation.\n",
        "* When using `validation_data` or `validation_split` with the `.fit()` method of Keras models, evaluation will be run at the end of every epoch.\n",
        "* Within Keras, there is the ability to add callbacks specifically designed to be run at the end of an epoch. Examples of these are learning rate changes and model checkpointing (saving).\n"
      ]
    },
    {
      "cell_type": "markdown",
      "metadata": {
        "id": "redYmIQT8oRQ"
      },
      "source": [
        "### Plot\n",
        "\n",
        "When we fit the model as shown above, we not only update the model object itself, we are also returned a history associated with the model. (Hence our variable name.) With this, we can retrieve further information regarding how the model training progressed from epoch to epoch. To do this, you can access the `.history` attribute of the returned object. Given our variable naming above, we would thus have:\n",
        "\n",
        "`history.history`\n",
        "\n",
        "This will return a dictionary of the metrics we indicated when compiling the model. By default, the loss criteria will always be included as well. So in our example, this dictionary will have two keys, one for the loss, and one for the accuracy. If you wish to plot learning curves for the loss or accuracy versus the epochs, you can then simply retrieve these lists. For example:\n",
        "\n",
        "`history.history['loss']`\n",
        "\n",
        "would return a list of the loss at each epoch."
      ]
    },
    {
      "cell_type": "markdown",
      "metadata": {
        "id": "fatS_8xO8oRR"
      },
      "source": [
        "## Make Predictions\n",
        "\n",
        "As with scikit-learn and other packages, making predictions from a trained model is relatively straightforward. To do this, you can simply use the `.predict()` method built into the model object. For example:   \n",
        "\n",
        "```python\n",
        "y_hat = model.predict(x)\n",
        "```"
      ]
    },
    {
      "cell_type": "markdown",
      "metadata": {
        "id": "WZT92z608oRb"
      },
      "source": [
        "## Evaluate the Model\n",
        "\n",
        "Similarly, we can use the `.evaluate()` method in order to compute the loss and other specified metrics for our trained model.\n",
        "\n",
        "For example,   \n",
        "\n",
        "```python\n",
        "model.evaluate(X_train, X_train_labels)\n",
        "```\n",
        "\n",
        "will return the final loss associated with the model for the training data as well as any other metrics that were specified during compilation.\n",
        "\n",
        "Similarly,\n",
        "\n",
        "```python\n",
        "model.evaluate(X_test, X_test_labels)\n",
        "```\n",
        "will return the final loss associated with the model for the test data as well as any other specified metrics.\n"
      ]
    },
    {
      "cell_type": "markdown",
      "metadata": {
        "id": "zMHXz9J38oRd"
      },
      "source": [
        "## Additional Resource\n",
        "    \n",
        "* A full book on Keras by the author of Keras himself:  \n",
        "https://www.manning.com/books/deep-learning-with-python-second-edition"
      ]
    },
    {
      "cell_type": "markdown",
      "metadata": {
        "id": "Yno6RoBT8oRd"
      },
      "source": [
        "## Summary\n",
        "\n",
        "In this lesson, we introduced some of the basic components of building a neural network using Keras. In the upcoming lab, you will put these concepts to practice."
      ]
    }
  ],
  "metadata": {
    "kernelspec": {
      "display_name": "Python 3",
      "language": "python",
      "name": "python3"
    },
    "language_info": {
      "codemirror_mode": {
        "name": "ipython",
        "version": 3
      },
      "file_extension": ".py",
      "mimetype": "text/x-python",
      "name": "python",
      "nbconvert_exporter": "python",
      "pygments_lexer": "ipython3",
      "version": "3.7.3"
    },
    "colab": {
      "provenance": []
    }
  },
  "nbformat": 4,
  "nbformat_minor": 0
}